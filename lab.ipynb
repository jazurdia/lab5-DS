{
 "cells": [
  {
   "cell_type": "code",
   "execution_count": 10,
   "metadata": {},
   "outputs": [],
   "source": [
    "# librerias\n",
    "import sklearn as sk\n",
    "import numpy as np\n",
    "import matplotlib.pyplot as plt\n",
    "import pandas as pd"
   ]
  },
  {
   "cell_type": "markdown",
   "metadata": {},
   "source": [
    "## Parte 1: Preparación de Datos (15 puntos)"
   ]
  },
  {
   "cell_type": "markdown",
   "metadata": {},
   "source": [
    "1.1 Cargue los datos en un DataFrame de Pandas"
   ]
  },
  {
   "cell_type": "code",
   "execution_count": 11,
   "metadata": {},
   "outputs": [
    {
     "data": {
      "text/html": [
       "<div>\n",
       "<style scoped>\n",
       "    .dataframe tbody tr th:only-of-type {\n",
       "        vertical-align: middle;\n",
       "    }\n",
       "\n",
       "    .dataframe tbody tr th {\n",
       "        vertical-align: top;\n",
       "    }\n",
       "\n",
       "    .dataframe thead th {\n",
       "        text-align: right;\n",
       "    }\n",
       "</style>\n",
       "<table border=\"1\" class=\"dataframe\">\n",
       "  <thead>\n",
       "    <tr style=\"text-align: right;\">\n",
       "      <th></th>\n",
       "      <th>Food</th>\n",
       "      <th>England</th>\n",
       "      <th>Wales</th>\n",
       "      <th>Scotland</th>\n",
       "      <th>N.Ireland</th>\n",
       "    </tr>\n",
       "  </thead>\n",
       "  <tbody>\n",
       "    <tr>\n",
       "      <th>0</th>\n",
       "      <td>Cheese</td>\n",
       "      <td>105</td>\n",
       "      <td>103</td>\n",
       "      <td>103</td>\n",
       "      <td>66</td>\n",
       "    </tr>\n",
       "    <tr>\n",
       "      <th>1</th>\n",
       "      <td>Carcass_meat</td>\n",
       "      <td>245</td>\n",
       "      <td>227</td>\n",
       "      <td>242</td>\n",
       "      <td>267</td>\n",
       "    </tr>\n",
       "    <tr>\n",
       "      <th>2</th>\n",
       "      <td>Other_meat</td>\n",
       "      <td>685</td>\n",
       "      <td>803</td>\n",
       "      <td>750</td>\n",
       "      <td>586</td>\n",
       "    </tr>\n",
       "    <tr>\n",
       "      <th>3</th>\n",
       "      <td>Fish</td>\n",
       "      <td>147</td>\n",
       "      <td>160</td>\n",
       "      <td>122</td>\n",
       "      <td>93</td>\n",
       "    </tr>\n",
       "    <tr>\n",
       "      <th>4</th>\n",
       "      <td>Fats_and_oils</td>\n",
       "      <td>193</td>\n",
       "      <td>235</td>\n",
       "      <td>184</td>\n",
       "      <td>209</td>\n",
       "    </tr>\n",
       "  </tbody>\n",
       "</table>\n",
       "</div>"
      ],
      "text/plain": [
       "             Food  England  Wales  Scotland  N.Ireland\n",
       "0          Cheese      105    103       103         66\n",
       "1   Carcass_meat       245    227       242        267\n",
       "2     Other_meat       685    803       750        586\n",
       "3            Fish      147    160       122         93\n",
       "4  Fats_and_oils       193    235       184        209"
      ]
     },
     "execution_count": 11,
     "metadata": {},
     "output_type": "execute_result"
    }
   ],
   "source": [
    "df = pd.read_csv('UK_foods.csv')\n",
    "df.rename(columns={'Unnamed: 0': 'Food'}, inplace=True)\n",
    "df.head()"
   ]
  },
  {
   "cell_type": "markdown",
   "metadata": {},
   "source": [
    "1.2 Realice una exploración básica de los datos (estadísticas descriptivas)."
   ]
  },
  {
   "cell_type": "code",
   "execution_count": 12,
   "metadata": {},
   "outputs": [],
   "source": [
    "# from ydata_profiling import ProfileReport\n",
    "# profile = ProfileReport(df, title='Food', explorative=True)\n",
    "# profile"
   ]
  },
  {
   "cell_type": "code",
   "execution_count": 13,
   "metadata": {},
   "outputs": [
    {
     "data": {
      "text/html": [
       "<div>\n",
       "<style scoped>\n",
       "    .dataframe tbody tr th:only-of-type {\n",
       "        vertical-align: middle;\n",
       "    }\n",
       "\n",
       "    .dataframe tbody tr th {\n",
       "        vertical-align: top;\n",
       "    }\n",
       "\n",
       "    .dataframe thead th {\n",
       "        text-align: right;\n",
       "    }\n",
       "</style>\n",
       "<table border=\"1\" class=\"dataframe\">\n",
       "  <thead>\n",
       "    <tr style=\"text-align: right;\">\n",
       "      <th></th>\n",
       "      <th>England</th>\n",
       "      <th>Wales</th>\n",
       "      <th>Scotland</th>\n",
       "      <th>N.Ireland</th>\n",
       "    </tr>\n",
       "  </thead>\n",
       "  <tbody>\n",
       "    <tr>\n",
       "      <th>0</th>\n",
       "      <td>0.035966</td>\n",
       "      <td>0.025692</td>\n",
       "      <td>0.032916</td>\n",
       "      <td>0.017065</td>\n",
       "    </tr>\n",
       "    <tr>\n",
       "      <th>1</th>\n",
       "      <td>0.134697</td>\n",
       "      <td>0.107378</td>\n",
       "      <td>0.124424</td>\n",
       "      <td>0.154266</td>\n",
       "    </tr>\n",
       "    <tr>\n",
       "      <th>2</th>\n",
       "      <td>0.444993</td>\n",
       "      <td>0.486825</td>\n",
       "      <td>0.458855</td>\n",
       "      <td>0.372014</td>\n",
       "    </tr>\n",
       "    <tr>\n",
       "      <th>3</th>\n",
       "      <td>0.065585</td>\n",
       "      <td>0.063241</td>\n",
       "      <td>0.045425</td>\n",
       "      <td>0.035495</td>\n",
       "    </tr>\n",
       "    <tr>\n",
       "      <th>4</th>\n",
       "      <td>0.098025</td>\n",
       "      <td>0.112648</td>\n",
       "      <td>0.086241</td>\n",
       "      <td>0.114676</td>\n",
       "    </tr>\n",
       "  </tbody>\n",
       "</table>\n",
       "</div>"
      ],
      "text/plain": [
       "    England     Wales  Scotland  N.Ireland\n",
       "0  0.035966  0.025692  0.032916   0.017065\n",
       "1  0.134697  0.107378  0.124424   0.154266\n",
       "2  0.444993  0.486825  0.458855   0.372014\n",
       "3  0.065585  0.063241  0.045425   0.035495\n",
       "4  0.098025  0.112648  0.086241   0.114676"
      ]
     },
     "execution_count": 13,
     "metadata": {},
     "output_type": "execute_result"
    }
   ],
   "source": [
    "from sklearn.preprocessing import MinMaxScaler\n",
    "foods = df['Food']\n",
    "data = df.drop('Food', axis=1)\n",
    "\n",
    "scaler = MinMaxScaler()\n",
    "data = scaler.fit_transform(data)\n",
    "data_scaled  = pd.DataFrame(data, columns=df.columns[1:])\n",
    "data_scaled .head()"
   ]
  },
  {
   "cell_type": "markdown",
   "metadata": {},
   "source": [
    "# Parte 2: Construcción del Autocodificador"
   ]
  },
  {
   "cell_type": "markdown",
   "metadata": {},
   "source": [
    "2.1 Dada la pequeña cantidad de datos, utilice todas las observaciones para entrenar el modelo."
   ]
  },
  {
   "cell_type": "code",
   "execution_count": 14,
   "metadata": {},
   "outputs": [
    {
     "name": "stdout",
     "output_type": "stream",
     "text": [
      "Model: \"model_2\"\n",
      "_________________________________________________________________\n",
      " Layer (type)                Output Shape              Param #   \n",
      "=================================================================\n",
      " input_2 (InputLayer)        [(None, 4)]               0         \n",
      "                                                                 \n",
      " dense_4 (Dense)             (None, 10)                50        \n",
      "                                                                 \n",
      " dense_5 (Dense)             (None, 2)                 22        \n",
      "                                                                 \n",
      " dense_6 (Dense)             (None, 10)                30        \n",
      "                                                                 \n",
      " dense_7 (Dense)             (None, 4)                 44        \n",
      "                                                                 \n",
      "=================================================================\n",
      "Total params: 146\n",
      "Trainable params: 146\n",
      "Non-trainable params: 0\n",
      "_________________________________________________________________\n"
     ]
    }
   ],
   "source": [
    "import tensorflow as tf\n",
    "from tensorflow.keras import layers, models\n",
    "\n",
    "# Definir el autocodificador\n",
    "input_dim = data_scaled.shape[1]  # Número de países\n",
    "encoding_dim = 2  # Cuello de botella de 2 dimensiones\n",
    "\n",
    "# Capa de entrada\n",
    "input_layer = layers.Input(shape=(input_dim,))\n",
    "\n",
    "# Codificador\n",
    "encoded = layers.Dense(10, activation='relu')(input_layer)\n",
    "encoded = layers.Dense(encoding_dim, activation='relu')(encoded)\n",
    "\n",
    "# Decodificador\n",
    "decoded = layers.Dense(10, activation='relu')(encoded)\n",
    "decoded = layers.Dense(input_dim, activation='sigmoid')(decoded)\n",
    "\n",
    "# Modelo autocodificador\n",
    "autoencoder = models.Model(input_layer, decoded)\n",
    "autoencoder.compile(optimizer='adam', loss='mse')\n",
    "\n",
    "# Resumen del modelo\n",
    "autoencoder.summary()"
   ]
  },
  {
   "cell_type": "code",
   "execution_count": 15,
   "metadata": {},
   "outputs": [
    {
     "name": "stdout",
     "output_type": "stream",
     "text": [
      "Epoch 1/50\n",
      "5/5 [==============================] - 0s 2ms/step - loss: 0.1456\n",
      "Epoch 2/50\n",
      "5/5 [==============================] - 0s 1ms/step - loss: 0.1448\n",
      "Epoch 3/50\n",
      "5/5 [==============================] - 0s 1ms/step - loss: 0.1443\n",
      "Epoch 4/50\n",
      "5/5 [==============================] - 0s 2ms/step - loss: 0.1437\n",
      "Epoch 5/50\n",
      "5/5 [==============================] - 0s 1ms/step - loss: 0.1431\n",
      "Epoch 6/50\n",
      "5/5 [==============================] - 0s 1ms/step - loss: 0.1426\n",
      "Epoch 7/50\n",
      "5/5 [==============================] - 0s 2ms/step - loss: 0.1420\n",
      "Epoch 8/50\n",
      "5/5 [==============================] - 0s 2ms/step - loss: 0.1414\n",
      "Epoch 9/50\n",
      "5/5 [==============================] - 0s 1ms/step - loss: 0.1409\n",
      "Epoch 10/50\n",
      "5/5 [==============================] - 0s 2ms/step - loss: 0.1404\n",
      "Epoch 11/50\n",
      "5/5 [==============================] - 0s 1ms/step - loss: 0.1399\n",
      "Epoch 12/50\n",
      "5/5 [==============================] - 0s 1ms/step - loss: 0.1394\n",
      "Epoch 13/50\n",
      "5/5 [==============================] - 0s 1ms/step - loss: 0.1389\n",
      "Epoch 14/50\n",
      "5/5 [==============================] - 0s 2ms/step - loss: 0.1385\n",
      "Epoch 15/50\n",
      "5/5 [==============================] - 0s 2ms/step - loss: 0.1380\n",
      "Epoch 16/50\n",
      "5/5 [==============================] - 0s 1ms/step - loss: 0.1376\n",
      "Epoch 17/50\n",
      "5/5 [==============================] - 0s 2ms/step - loss: 0.1371\n",
      "Epoch 18/50\n",
      "5/5 [==============================] - 0s 1ms/step - loss: 0.1367\n",
      "Epoch 19/50\n",
      "5/5 [==============================] - 0s 2ms/step - loss: 0.1363\n",
      "Epoch 20/50\n",
      "5/5 [==============================] - 0s 1ms/step - loss: 0.1358\n",
      "Epoch 21/50\n",
      "5/5 [==============================] - 0s 2ms/step - loss: 0.1353\n",
      "Epoch 22/50\n",
      "5/5 [==============================] - 0s 2ms/step - loss: 0.1349\n",
      "Epoch 23/50\n",
      "5/5 [==============================] - 0s 1ms/step - loss: 0.1344\n",
      "Epoch 24/50\n",
      "5/5 [==============================] - 0s 2ms/step - loss: 0.1340\n",
      "Epoch 25/50\n",
      "5/5 [==============================] - 0s 2ms/step - loss: 0.1335\n",
      "Epoch 26/50\n",
      "5/5 [==============================] - 0s 2ms/step - loss: 0.1330\n",
      "Epoch 27/50\n",
      "5/5 [==============================] - 0s 2ms/step - loss: 0.1325\n",
      "Epoch 28/50\n",
      "5/5 [==============================] - 0s 1ms/step - loss: 0.1321\n",
      "Epoch 29/50\n",
      "5/5 [==============================] - 0s 2ms/step - loss: 0.1315\n",
      "Epoch 30/50\n",
      "5/5 [==============================] - 0s 2ms/step - loss: 0.1311\n",
      "Epoch 31/50\n",
      "5/5 [==============================] - 0s 2ms/step - loss: 0.1305\n",
      "Epoch 32/50\n",
      "5/5 [==============================] - 0s 2ms/step - loss: 0.1300\n",
      "Epoch 33/50\n",
      "5/5 [==============================] - 0s 2ms/step - loss: 0.1294\n",
      "Epoch 34/50\n",
      "5/5 [==============================] - 0s 2ms/step - loss: 0.1289\n",
      "Epoch 35/50\n",
      "5/5 [==============================] - 0s 2ms/step - loss: 0.1283\n",
      "Epoch 36/50\n",
      "5/5 [==============================] - 0s 2ms/step - loss: 0.1276\n",
      "Epoch 37/50\n",
      "5/5 [==============================] - 0s 2ms/step - loss: 0.1269\n",
      "Epoch 38/50\n",
      "5/5 [==============================] - 0s 2ms/step - loss: 0.1263\n",
      "Epoch 39/50\n",
      "5/5 [==============================] - 0s 2ms/step - loss: 0.1255\n",
      "Epoch 40/50\n",
      "5/5 [==============================] - 0s 2ms/step - loss: 0.1248\n",
      "Epoch 41/50\n",
      "5/5 [==============================] - 0s 2ms/step - loss: 0.1238\n",
      "Epoch 42/50\n",
      "5/5 [==============================] - 0s 1ms/step - loss: 0.1229\n",
      "Epoch 43/50\n",
      "5/5 [==============================] - 0s 2ms/step - loss: 0.1221\n",
      "Epoch 44/50\n",
      "5/5 [==============================] - 0s 2ms/step - loss: 0.1210\n",
      "Epoch 45/50\n",
      "5/5 [==============================] - 0s 2ms/step - loss: 0.1201\n",
      "Epoch 46/50\n",
      "5/5 [==============================] - 0s 2ms/step - loss: 0.1191\n",
      "Epoch 47/50\n",
      "5/5 [==============================] - 0s 1ms/step - loss: 0.1182\n",
      "Epoch 48/50\n",
      "5/5 [==============================] - 0s 1ms/step - loss: 0.1171\n",
      "Epoch 49/50\n",
      "5/5 [==============================] - 0s 1ms/step - loss: 0.1161\n",
      "Epoch 50/50\n",
      "5/5 [==============================] - 0s 2ms/step - loss: 0.1144\n"
     ]
    },
    {
     "data": {
      "text/plain": [
       "<keras.callbacks.History at 0x2469b968a60>"
      ]
     },
     "execution_count": 15,
     "metadata": {},
     "output_type": "execute_result"
    }
   ],
   "source": [
    "# Entrenar el autocodificador\n",
    "autoencoder.fit(data_scaled, data_scaled, epochs=50, batch_size=4, shuffle=True)"
   ]
  },
  {
   "cell_type": "code",
   "execution_count": 16,
   "metadata": {},
   "outputs": [
    {
     "name": "stdout",
     "output_type": "stream",
     "text": [
      "1/1 [==============================] - 0s 138ms/step - loss: 0.1136\n",
      "Pérdida de reconstrucción: 0.1136169508099556\n"
     ]
    }
   ],
   "source": [
    "loss = autoencoder.evaluate(data_scaled, data_scaled)\n",
    "print(f'Pérdida de reconstrucción: {loss}')"
   ]
  },
  {
   "cell_type": "markdown",
   "metadata": {},
   "source": [
    "# Parte 3: Reducción de Dimensionalidad y Visualización"
   ]
  },
  {
   "cell_type": "code",
   "execution_count": 17,
   "metadata": {},
   "outputs": [
    {
     "name": "stdout",
     "output_type": "stream",
     "text": [
      "1/1 [==============================] - 0s 58ms/step\n"
     ]
    }
   ],
   "source": [
    "# Crear un modelo para obtener solo la parte codificada\n",
    "encoder = models.Model(input_layer, encoded)\n",
    "reduced_data = encoder.predict(data_scaled)"
   ]
  },
  {
   "cell_type": "code",
   "execution_count": 18,
   "metadata": {},
   "outputs": [
    {
     "data": {
      "image/png": "[encoded data removed]",
      "text/plain": [
       "<Figure size 640x480 with 1 Axes>"
      ]
     },
     "metadata": {},
     "output_type": "display_data"
    }
   ],
   "source": [
    "import matplotlib.pyplot as plt\n",
    "\n",
    "plt.scatter(reduced_data[:, 0], reduced_data[:, 1])\n",
    "\n",
    "# Añadir etiquetas para los tipos de alimentos\n",
    "for i, food in enumerate(foods):\n",
    "    plt.text(reduced_data[i, 0], reduced_data[i, 1], food)\n",
    "\n",
    "plt.xlabel('Dimensión 1')\n",
    "plt.ylabel('Dimensión 2')\n",
    "plt.title('Reducción de Dimensionalidad con Autocodificador')\n",
    "plt.show()"
   ]
  },
  {
   "cell_type": "markdown",
   "metadata": {},
   "source": [
    "3.3 Interpretación de las dimensiones latentes\n",
    "\n",
    "Las dimensiones resultantes del proceso de re-dimensionamiento no tienen un significado específico. Sin embargo, es posible extraer información de las mismas. Para ello, se puede analizar los pesos de las conexiones entre las neuronas de la capa de entrada y la capa oculta. Estos pesos indican la importancia de cada variable en la dimensión latente. Por ejemplo, si la primera dimensión latente tiene un peso alto en la variable 1, esto indica que la variable 1 es importante para la dimensión latente 1.\n",
    "\n",
    "Así mismo y en un primer vistazo, se puede analizar que los puntos que están cercanos tienen patrones de consumo similares.\n"
   ]
  },
  {
   "cell_type": "markdown",
   "metadata": {},
   "source": [
    "# Parte 4: Discusión y percepciones nuevas \"Insights\""
   ]
  },
  {
   "cell_type": "markdown",
   "metadata": {},
   "source": [
    "### Interpretación de patrones de consumo:\n",
    "La reducción dimensional con el autocodificador revela patrones claros en el consumo de alimentos. Se observa que ciertos grupos de alimentos, como los procesados (\"Processed_Veg\" y \"Alcoholic_drinks\"), tienden a agruparse, lo que indica similitudes en sus patrones de consumo. Por otro lado, alimentos como \"Soft_drinks\" y \"Cereals\" están distanciados del resto, lo que sugiere patrones de consumo distintos, posiblemente influenciados por diferencias culturales o económicas. La distribución en el gráfico muestra que los alimentos frescos, como \"Fresh_fruit\" y \"Fresh_potatoes\", también tienen patrones diferenciados de otros vegetales y carnes. \n",
    "\n",
    "### Evaluación de rendimiento del modelo:\n",
    "El autocodificador ha demostrado ser eficaz en la tarea de reducción dimensional, con una pérdida de reconstrucción de 0.1136. Este valor indica que el modelo ha logrado captar las características clave de los datos sin un gran error en la reconstrucción. Aunque no es un valor extremadamente bajo, es suficiente para considerar que el modelo ha aprendido de manera efectiva los patrones subyacentes. La arquitectura con un cuello de botella de dos dimensiones ha sido adecuada para reducir los datos de forma compacta y aún así mantener las relaciones importantes entre los tipos de alimentos. El modelo ha sido capaz de representar la complejidad de los datos originales de manera que permite visualizarlos y analizarlos, lo que muestra un buen rendimiento en cuanto a su capacidad para comprimir información de manera eficiente.\n"
   ]
  }
 ],
 "metadata": {
  "kernelspec": {
   "display_name": "recentPytorchWithCuda",
   "language": "python",
   "name": "python3"
  },
  "language_info": {
   "codemirror_mode": {
    "name": "ipython",
    "version": 3
   },
   "file_extension": ".py",
   "mimetype": "text/x-python",
   "name": "python",
   "nbconvert_exporter": "python",
   "pygments_lexer": "ipython3",
   "version": "3.8.18"
  }
 },
 "nbformat": 4,
 "nbformat_minor": 2
}
